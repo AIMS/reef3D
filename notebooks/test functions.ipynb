{
 "cells": [
  {
   "cell_type": "code",
   "execution_count": 5,
   "metadata": {},
   "outputs": [
    {
     "name": "stdout",
     "output_type": "stream",
     "text": [
      "/Volumes/3d_ltmp/data/testCamp/Helix/s1t1/HELIX_V26 001.JPG\n",
      "/Volumes/3d_ltmp/data/testCamp/Helix/s1t1/HELIX_V26 002.JPG\n"
     ]
    }
   ],
   "source": [
    "import sys, os\n",
    "sys.path.append('/Users/uqmgonz1/Documents/GitHub/')\n",
    "from reef3D.PyToolbox import PStools as ps\n",
    "\n",
    "root_path='/Volumes/3d_ltmp/data'\n",
    "camp='testCamp'\n",
    "\n",
    "pl=ps.getDict_LTMP(os.path.join(root_path,camp))\n",
    "# pl.keys()\n",
    "# for img in pl['Helix']['s1t1'][:2]:\n",
    "#     print(img)\n",
    "    "
   ]
  },
  {
   "cell_type": "code",
   "execution_count": null,
   "metadata": {},
   "outputs": [],
   "source": []
  }
 ],
 "metadata": {
  "kernelspec": {
   "display_name": "Python 3",
   "language": "python",
   "name": "python3"
  },
  "language_info": {
   "codemirror_mode": {
    "name": "ipython",
    "version": 3
   },
   "file_extension": ".py",
   "mimetype": "text/x-python",
   "name": "python",
   "nbconvert_exporter": "python",
   "pygments_lexer": "ipython3",
   "version": "3.6.5"
  }
 },
 "nbformat": 4,
 "nbformat_minor": 2
}
